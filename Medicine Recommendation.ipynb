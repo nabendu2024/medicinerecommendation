{
 "cells": [
  {
   "cell_type": "code",
   "execution_count": 1,
   "id": "c2860650-5314-4a68-a212-e0ec3b3fc3e8",
   "metadata": {},
   "outputs": [],
   "source": [
    "import numpy as np\n",
    "import pandas as pd\n",
    "import seaborn as sns\n",
    "import matplotlib.pyplot as plt\n",
    "from sklearn.preprocessing import LabelEncoder\n",
    "from sklearn.model_selection import train_test_split\n",
    "from sklearn.datasets import make_classification\n",
    "from sklearn.svm import SVC\n",
    "from sklearn.ensemble import RandomForestClassifier, GradientBoostingClassifier\n",
    "from sklearn.neighbors import KNeighborsClassifier\n",
    "from sklearn.naive_bayes import MultinomialNB\n",
    "from sklearn.metrics import accuracy_score, confusion_matrix\n",
    "import warnings \n",
    "warnings.filterwarnings('ignore')"
   ]
  },
  {
   "cell_type": "markdown",
   "id": "dace25ee-0666-443c-bd8e-534434d85d5c",
   "metadata": {},
   "source": [
    "## Objective"
   ]
  },
  {
   "cell_type": "markdown",
   "id": "be8857d4-aa28-471b-bd27-6a46eb4b0dfd",
   "metadata": {},
   "source": [
    "Welcome to our AI-powered Personalized Medical Recommendation System! Using machine learning, we analyze your symptoms to \n",
    "provide accurate disease predictions and health insights."
   ]
  },
  {
   "cell_type": "code",
   "execution_count": 4,
   "id": "2454443d-59fa-44e9-94e6-817cf0aed18f",
   "metadata": {},
   "outputs": [],
   "source": [
    "dataset = pd.read_csv('Training.csv')"
   ]
  },
  {
   "cell_type": "code",
   "execution_count": 5,
   "id": "8df3bbb4-6396-4615-b67f-ccea930d99f5",
   "metadata": {},
   "outputs": [
    {
     "data": {
      "text/html": [
       "<div>\n",
       "<style scoped>\n",
       "    .dataframe tbody tr th:only-of-type {\n",
       "        vertical-align: middle;\n",
       "    }\n",
       "\n",
       "    .dataframe tbody tr th {\n",
       "        vertical-align: top;\n",
       "    }\n",
       "\n",
       "    .dataframe thead th {\n",
       "        text-align: right;\n",
       "    }\n",
       "</style>\n",
       "<table border=\"1\" class=\"dataframe\">\n",
       "  <thead>\n",
       "    <tr style=\"text-align: right;\">\n",
       "      <th></th>\n",
       "      <th>itching</th>\n",
       "      <th>skin_rash</th>\n",
       "      <th>nodal_skin_eruptions</th>\n",
       "      <th>continuous_sneezing</th>\n",
       "      <th>shivering</th>\n",
       "      <th>chills</th>\n",
       "      <th>joint_pain</th>\n",
       "      <th>stomach_pain</th>\n",
       "      <th>acidity</th>\n",
       "      <th>ulcers_on_tongue</th>\n",
       "      <th>...</th>\n",
       "      <th>blackheads</th>\n",
       "      <th>scurring</th>\n",
       "      <th>skin_peeling</th>\n",
       "      <th>silver_like_dusting</th>\n",
       "      <th>small_dents_in_nails</th>\n",
       "      <th>inflammatory_nails</th>\n",
       "      <th>blister</th>\n",
       "      <th>red_sore_around_nose</th>\n",
       "      <th>yellow_crust_ooze</th>\n",
       "      <th>prognosis</th>\n",
       "    </tr>\n",
       "  </thead>\n",
       "  <tbody>\n",
       "    <tr>\n",
       "      <th>0</th>\n",
       "      <td>1</td>\n",
       "      <td>1</td>\n",
       "      <td>1</td>\n",
       "      <td>0</td>\n",
       "      <td>0</td>\n",
       "      <td>0</td>\n",
       "      <td>0</td>\n",
       "      <td>0</td>\n",
       "      <td>0</td>\n",
       "      <td>0</td>\n",
       "      <td>...</td>\n",
       "      <td>0</td>\n",
       "      <td>0</td>\n",
       "      <td>0</td>\n",
       "      <td>0</td>\n",
       "      <td>0</td>\n",
       "      <td>0</td>\n",
       "      <td>0</td>\n",
       "      <td>0</td>\n",
       "      <td>0</td>\n",
       "      <td>Fungal infection</td>\n",
       "    </tr>\n",
       "    <tr>\n",
       "      <th>1</th>\n",
       "      <td>0</td>\n",
       "      <td>1</td>\n",
       "      <td>1</td>\n",
       "      <td>0</td>\n",
       "      <td>0</td>\n",
       "      <td>0</td>\n",
       "      <td>0</td>\n",
       "      <td>0</td>\n",
       "      <td>0</td>\n",
       "      <td>0</td>\n",
       "      <td>...</td>\n",
       "      <td>0</td>\n",
       "      <td>0</td>\n",
       "      <td>0</td>\n",
       "      <td>0</td>\n",
       "      <td>0</td>\n",
       "      <td>0</td>\n",
       "      <td>0</td>\n",
       "      <td>0</td>\n",
       "      <td>0</td>\n",
       "      <td>Fungal infection</td>\n",
       "    </tr>\n",
       "    <tr>\n",
       "      <th>2</th>\n",
       "      <td>1</td>\n",
       "      <td>0</td>\n",
       "      <td>1</td>\n",
       "      <td>0</td>\n",
       "      <td>0</td>\n",
       "      <td>0</td>\n",
       "      <td>0</td>\n",
       "      <td>0</td>\n",
       "      <td>0</td>\n",
       "      <td>0</td>\n",
       "      <td>...</td>\n",
       "      <td>0</td>\n",
       "      <td>0</td>\n",
       "      <td>0</td>\n",
       "      <td>0</td>\n",
       "      <td>0</td>\n",
       "      <td>0</td>\n",
       "      <td>0</td>\n",
       "      <td>0</td>\n",
       "      <td>0</td>\n",
       "      <td>Fungal infection</td>\n",
       "    </tr>\n",
       "    <tr>\n",
       "      <th>3</th>\n",
       "      <td>1</td>\n",
       "      <td>1</td>\n",
       "      <td>0</td>\n",
       "      <td>0</td>\n",
       "      <td>0</td>\n",
       "      <td>0</td>\n",
       "      <td>0</td>\n",
       "      <td>0</td>\n",
       "      <td>0</td>\n",
       "      <td>0</td>\n",
       "      <td>...</td>\n",
       "      <td>0</td>\n",
       "      <td>0</td>\n",
       "      <td>0</td>\n",
       "      <td>0</td>\n",
       "      <td>0</td>\n",
       "      <td>0</td>\n",
       "      <td>0</td>\n",
       "      <td>0</td>\n",
       "      <td>0</td>\n",
       "      <td>Fungal infection</td>\n",
       "    </tr>\n",
       "    <tr>\n",
       "      <th>4</th>\n",
       "      <td>1</td>\n",
       "      <td>1</td>\n",
       "      <td>1</td>\n",
       "      <td>0</td>\n",
       "      <td>0</td>\n",
       "      <td>0</td>\n",
       "      <td>0</td>\n",
       "      <td>0</td>\n",
       "      <td>0</td>\n",
       "      <td>0</td>\n",
       "      <td>...</td>\n",
       "      <td>0</td>\n",
       "      <td>0</td>\n",
       "      <td>0</td>\n",
       "      <td>0</td>\n",
       "      <td>0</td>\n",
       "      <td>0</td>\n",
       "      <td>0</td>\n",
       "      <td>0</td>\n",
       "      <td>0</td>\n",
       "      <td>Fungal infection</td>\n",
       "    </tr>\n",
       "  </tbody>\n",
       "</table>\n",
       "<p>5 rows × 133 columns</p>\n",
       "</div>"
      ],
      "text/plain": [
       "   itching  skin_rash  nodal_skin_eruptions  continuous_sneezing  shivering  \\\n",
       "0        1          1                     1                    0          0   \n",
       "1        0          1                     1                    0          0   \n",
       "2        1          0                     1                    0          0   \n",
       "3        1          1                     0                    0          0   \n",
       "4        1          1                     1                    0          0   \n",
       "\n",
       "   chills  joint_pain  stomach_pain  acidity  ulcers_on_tongue  ...  \\\n",
       "0       0           0             0        0                 0  ...   \n",
       "1       0           0             0        0                 0  ...   \n",
       "2       0           0             0        0                 0  ...   \n",
       "3       0           0             0        0                 0  ...   \n",
       "4       0           0             0        0                 0  ...   \n",
       "\n",
       "   blackheads  scurring  skin_peeling  silver_like_dusting  \\\n",
       "0           0         0             0                    0   \n",
       "1           0         0             0                    0   \n",
       "2           0         0             0                    0   \n",
       "3           0         0             0                    0   \n",
       "4           0         0             0                    0   \n",
       "\n",
       "   small_dents_in_nails  inflammatory_nails  blister  red_sore_around_nose  \\\n",
       "0                     0                   0        0                     0   \n",
       "1                     0                   0        0                     0   \n",
       "2                     0                   0        0                     0   \n",
       "3                     0                   0        0                     0   \n",
       "4                     0                   0        0                     0   \n",
       "\n",
       "   yellow_crust_ooze         prognosis  \n",
       "0                  0  Fungal infection  \n",
       "1                  0  Fungal infection  \n",
       "2                  0  Fungal infection  \n",
       "3                  0  Fungal infection  \n",
       "4                  0  Fungal infection  \n",
       "\n",
       "[5 rows x 133 columns]"
      ]
     },
     "execution_count": 5,
     "metadata": {},
     "output_type": "execute_result"
    }
   ],
   "source": [
    "dataset.head()"
   ]
  },
  {
   "cell_type": "code",
   "execution_count": 6,
   "id": "2b6dc9b6-6221-42d0-b2ec-61ec11168b6e",
   "metadata": {},
   "outputs": [
    {
     "data": {
      "text/plain": [
       "(4920, 133)"
      ]
     },
     "execution_count": 6,
     "metadata": {},
     "output_type": "execute_result"
    }
   ],
   "source": [
    "dataset.shape"
   ]
  },
  {
   "cell_type": "code",
   "execution_count": 7,
   "id": "3a9f6dda-b058-4f53-8d3a-45c5fd8d093b",
   "metadata": {},
   "outputs": [
    {
     "data": {
      "text/plain": [
       "41"
      ]
     },
     "execution_count": 7,
     "metadata": {},
     "output_type": "execute_result"
    }
   ],
   "source": [
    "len(dataset['prognosis'].unique())"
   ]
  },
  {
   "cell_type": "code",
   "execution_count": 8,
   "id": "4f857f7d-4449-4c60-b7d9-72193eb101ea",
   "metadata": {},
   "outputs": [
    {
     "data": {
      "text/plain": [
       "array(['Fungal infection', 'Allergy', 'GERD', 'Chronic cholestasis',\n",
       "       'Drug Reaction', 'Peptic ulcer diseae', 'AIDS', 'Diabetes ',\n",
       "       'Gastroenteritis', 'Bronchial Asthma', 'Hypertension ', 'Migraine',\n",
       "       'Cervical spondylosis', 'Paralysis (brain hemorrhage)', 'Jaundice',\n",
       "       'Malaria', 'Chicken pox', 'Dengue', 'Typhoid', 'hepatitis A',\n",
       "       'Hepatitis B', 'Hepatitis C', 'Hepatitis D', 'Hepatitis E',\n",
       "       'Alcoholic hepatitis', 'Tuberculosis', 'Common Cold', 'Pneumonia',\n",
       "       'Dimorphic hemmorhoids(piles)', 'Heart attack', 'Varicose veins',\n",
       "       'Hypothyroidism', 'Hyperthyroidism', 'Hypoglycemia',\n",
       "       'Osteoarthristis', 'Arthritis',\n",
       "       '(vertigo) Paroymsal  Positional Vertigo', 'Acne',\n",
       "       'Urinary tract infection', 'Psoriasis', 'Impetigo'], dtype=object)"
      ]
     },
     "execution_count": 8,
     "metadata": {},
     "output_type": "execute_result"
    }
   ],
   "source": [
    "dataset['prognosis'].unique()"
   ]
  },
  {
   "cell_type": "code",
   "execution_count": 9,
   "id": "0f34e127-98e1-4537-9f04-b5b233ecbfc1",
   "metadata": {},
   "outputs": [],
   "source": [
    "# datset is already preprocessesed as it is mentioned"
   ]
  },
  {
   "cell_type": "code",
   "execution_count": 25,
   "id": "4154a502-e6ae-468b-8fd7-bec08c01a019",
   "metadata": {},
   "outputs": [],
   "source": [
    "# splitting of dataset\n",
    "X = dataset.drop('prognosis',axis=1)\n",
    "y = dataset['prognosis']"
   ]
  },
  {
   "cell_type": "code",
   "execution_count": 27,
   "id": "34df9857-5a4b-4d65-a9fa-af202000b73b",
   "metadata": {},
   "outputs": [],
   "source": [
    "X_train,X_test,y_train,y_test = train_test_split(X,Y,test_size=0.3,random_state=40)"
   ]
  },
  {
   "cell_type": "code",
   "execution_count": 29,
   "id": "52dbe9bb-0a42-45a0-8568-00859d771bf3",
   "metadata": {},
   "outputs": [
    {
     "data": {
      "text/plain": [
       "((3444, 132), (1476, 132), (3444,), (1476,))"
      ]
     },
     "execution_count": 29,
     "metadata": {},
     "output_type": "execute_result"
    }
   ],
   "source": [
    "X_train.shape,X_test.shape,y_train.shape,y_test.shape"
   ]
  },
  {
   "cell_type": "code",
   "execution_count": 31,
   "id": "c5c7e47b-b460-4ac4-961c-ef62b4f03e7a",
   "metadata": {},
   "outputs": [
    {
     "data": {
      "text/plain": [
       "0                              Fungal infection\n",
       "1                              Fungal infection\n",
       "2                              Fungal infection\n",
       "3                              Fungal infection\n",
       "4                              Fungal infection\n",
       "                         ...                   \n",
       "4915    (vertigo) Paroymsal  Positional Vertigo\n",
       "4916                                       Acne\n",
       "4917                    Urinary tract infection\n",
       "4918                                  Psoriasis\n",
       "4919                                   Impetigo\n",
       "Name: prognosis, Length: 4920, dtype: object"
      ]
     },
     "execution_count": 31,
     "metadata": {},
     "output_type": "execute_result"
    }
   ],
   "source": [
    "y"
   ]
  },
  {
   "cell_type": "code",
   "execution_count": 33,
   "id": "c82cf7f9-02a4-4227-9c77-698a293a4f1f",
   "metadata": {},
   "outputs": [],
   "source": [
    "le = LabelEncoder()\n",
    "le.fit(y)\n",
    "Y=le.transform(y)"
   ]
  },
  {
   "cell_type": "code",
   "execution_count": 35,
   "id": "111a9d94-475a-4d19-8321-168feb43dc04",
   "metadata": {},
   "outputs": [
    {
     "data": {
      "text/plain": [
       "array([15, 15, 15, ..., 38, 35, 27])"
      ]
     },
     "execution_count": 35,
     "metadata": {},
     "output_type": "execute_result"
    }
   ],
   "source": [
    "Y"
   ]
  },
  {
   "cell_type": "code",
   "execution_count": 37,
   "id": "77186d51-6565-464c-9cd7-c0905d2435d0",
   "metadata": {},
   "outputs": [],
   "source": [
    "## Model Training"
   ]
  },
  {
   "cell_type": "code",
   "execution_count": 39,
   "id": "504a91ab-ca62-4411-8a73-cd76f4d65d96",
   "metadata": {},
   "outputs": [
    {
     "name": "stdout",
     "output_type": "stream",
     "text": [
      "SVC accuracy :1.0\n",
      "SVC confusion_matrix:\n",
      "[[36, 0, 0,..., 0, 0, 0],\n",
      " [ 0,38, 0,..., 0, 0, 0],\n",
      " [ 0, 0,38,..., 0, 0, 0],\n",
      " ...,\n",
      " [ 0, 0, 0,...,44, 0, 0],\n",
      " [ 0, 0, 0,..., 0,29, 0],\n",
      " [ 0, 0, 0,..., 0, 0,41]]\n",
      "Randomforest accuracy :1.0\n",
      "Randomforest confusion_matrix:\n",
      "[[36, 0, 0,..., 0, 0, 0],\n",
      " [ 0,38, 0,..., 0, 0, 0],\n",
      " [ 0, 0,38,..., 0, 0, 0],\n",
      " ...,\n",
      " [ 0, 0, 0,...,44, 0, 0],\n",
      " [ 0, 0, 0,..., 0,29, 0],\n",
      " [ 0, 0, 0,..., 0, 0,41]]\n",
      "Gradient Boosting accuracy :1.0\n",
      "Gradient Boosting confusion_matrix:\n",
      "[[36, 0, 0,..., 0, 0, 0],\n",
      " [ 0,38, 0,..., 0, 0, 0],\n",
      " [ 0, 0,38,..., 0, 0, 0],\n",
      " ...,\n",
      " [ 0, 0, 0,...,44, 0, 0],\n",
      " [ 0, 0, 0,..., 0,29, 0],\n",
      " [ 0, 0, 0,..., 0, 0,41]]\n",
      "Kneighbors accuracy :1.0\n",
      "Kneighbors confusion_matrix:\n",
      "[[36, 0, 0,..., 0, 0, 0],\n",
      " [ 0,38, 0,..., 0, 0, 0],\n",
      " [ 0, 0,38,..., 0, 0, 0],\n",
      " ...,\n",
      " [ 0, 0, 0,...,44, 0, 0],\n",
      " [ 0, 0, 0,..., 0,29, 0],\n",
      " [ 0, 0, 0,..., 0, 0,41]]\n",
      "Multimomial accuracy :1.0\n",
      "Multimomial confusion_matrix:\n",
      "[[36, 0, 0,..., 0, 0, 0],\n",
      " [ 0,38, 0,..., 0, 0, 0],\n",
      " [ 0, 0,38,..., 0, 0, 0],\n",
      " ...,\n",
      " [ 0, 0, 0,...,44, 0, 0],\n",
      " [ 0, 0, 0,..., 0,29, 0],\n",
      " [ 0, 0, 0,..., 0, 0,41]]\n"
     ]
    }
   ],
   "source": [
    "models = {\n",
    "    'SVC': SVC(kernel='linear'),\n",
    "    'Randomforest': RandomForestClassifier(n_estimators=100,random_state=40),\n",
    "    'Gradient Boosting': GradientBoostingClassifier(n_estimators=100,random_state=40),\n",
    "    'Kneighbors': KNeighborsClassifier(n_neighbors=5),\n",
    "    'Multimomial': MultinomialNB()\n",
    "}\n",
    "\n",
    "for model_name,model in models.items():\n",
    "    model.fit(X_train,y_train)\n",
    "    predictions= model.predict(X_test)\n",
    "    accuracy = accuracy_score(y_test,predictions)\n",
    "    cm = confusion_matrix(y_test,predictions)\n",
    "    print(f'{model_name} accuracy :{accuracy}')\n",
    "    print(f'{model_name} confusion_matrix:')\n",
    "    print(np.array2string(cm,separator=','))\n",
    "    \n",
    "    \n",
    "    \n",
    "    "
   ]
  },
  {
   "cell_type": "code",
   "execution_count": 40,
   "id": "abbbe6d1-537a-450c-935a-cced03c9e358",
   "metadata": {},
   "outputs": [
    {
     "data": {
      "text/plain": [
       "1.0"
      ]
     },
     "execution_count": 40,
     "metadata": {},
     "output_type": "execute_result"
    }
   ],
   "source": [
    "# final prediction\n",
    "svc = SVC(kernel='linear')\n",
    "svc.fit(X_train,y_train)\n",
    "ypred= svc.predict(X_test)\n",
    "accuracy_score(y_test,ypred)"
   ]
  },
  {
   "cell_type": "code",
   "execution_count": 41,
   "id": "ddf471f7-d0fb-485c-ad59-b87f7431f109",
   "metadata": {},
   "outputs": [],
   "source": [
    "# saving model\n",
    "import pickle\n",
    "pickle.dump(svc,open('models/svc.pickle','wb'))"
   ]
  },
  {
   "cell_type": "code",
   "execution_count": 42,
   "id": "70f43561-4c21-4d1f-92d5-1771d413d35e",
   "metadata": {},
   "outputs": [],
   "source": [
    "# load model\n",
    "svc = pickle.load(open('models/svc.pickle','rb'))"
   ]
  },
  {
   "cell_type": "code",
   "execution_count": 43,
   "id": "e111bd51-f50c-405a-a219-30a7b724ad4d",
   "metadata": {},
   "outputs": [
    {
     "data": {
      "text/plain": [
       "array([40])"
      ]
     },
     "execution_count": 43,
     "metadata": {},
     "output_type": "execute_result"
    }
   ],
   "source": [
    "svc.predict(X_test.iloc[0].values.reshape(1,-1))"
   ]
  },
  {
   "cell_type": "code",
   "execution_count": 53,
   "id": "22455174-6017-4374-8858-ae5cbcbeabf6",
   "metadata": {},
   "outputs": [
    {
     "name": "stdout",
     "output_type": "stream",
     "text": [
      "Predicted label : [40]\n",
      "Actual label : 40\n"
     ]
    }
   ],
   "source": [
    "# test 1\n",
    "print('Predicted label :', svc.predict(X_test.iloc[0].values.reshape(1,-1)))\n",
    "print('Actual label :',y_test[0])\n",
    "# these vlues are the diseases whcih we have encoded using labelencoder"
   ]
  },
  {
   "cell_type": "code",
   "execution_count": 55,
   "id": "6e4971e9-d40d-44b9-bc73-050c589cab25",
   "metadata": {},
   "outputs": [
    {
     "name": "stdout",
     "output_type": "stream",
     "text": [
      "Predicted label : [16]\n",
      "Actual label : 16\n"
     ]
    }
   ],
   "source": [
    "# test 2\n",
    "print('Predicted label :', svc.predict(X_test.iloc[10].values.reshape(1,-1)))\n",
    "print('Actual label :',y_test[10])"
   ]
  },
  {
   "cell_type": "code",
   "execution_count": 57,
   "id": "ba06bd63-ec71-47e1-80b0-9950d06cdb33",
   "metadata": {},
   "outputs": [],
   "source": [
    "# load dataset\n",
    "sym_des = pd.read_csv(\"symtoms_df.csv\")\n",
    "precautions = pd.read_csv(\"precautions_df.csv\")\n",
    "workout = pd.read_csv(\"workout_df.csv\")\n",
    "description = pd.read_csv(\"description.csv\")\n",
    "medications = pd.read_csv('medications.csv')\n",
    "diets = pd.read_csv(\"diets.csv\")"
   ]
  },
  {
   "cell_type": "code",
   "execution_count": 59,
   "id": "ffcc1bb6-e05e-477b-ad70-e099c95ed863",
   "metadata": {},
   "outputs": [
    {
     "data": {
      "text/html": [
       "<div>\n",
       "<style scoped>\n",
       "    .dataframe tbody tr th:only-of-type {\n",
       "        vertical-align: middle;\n",
       "    }\n",
       "\n",
       "    .dataframe tbody tr th {\n",
       "        vertical-align: top;\n",
       "    }\n",
       "\n",
       "    .dataframe thead th {\n",
       "        text-align: right;\n",
       "    }\n",
       "</style>\n",
       "<table border=\"1\" class=\"dataframe\">\n",
       "  <thead>\n",
       "    <tr style=\"text-align: right;\">\n",
       "      <th></th>\n",
       "      <th>Unnamed: 0</th>\n",
       "      <th>Disease</th>\n",
       "      <th>Symptom_1</th>\n",
       "      <th>Symptom_2</th>\n",
       "      <th>Symptom_3</th>\n",
       "      <th>Symptom_4</th>\n",
       "    </tr>\n",
       "  </thead>\n",
       "  <tbody>\n",
       "    <tr>\n",
       "      <th>0</th>\n",
       "      <td>0</td>\n",
       "      <td>Fungal infection</td>\n",
       "      <td>itching</td>\n",
       "      <td>skin_rash</td>\n",
       "      <td>nodal_skin_eruptions</td>\n",
       "      <td>dischromic _patches</td>\n",
       "    </tr>\n",
       "    <tr>\n",
       "      <th>1</th>\n",
       "      <td>1</td>\n",
       "      <td>Fungal infection</td>\n",
       "      <td>skin_rash</td>\n",
       "      <td>nodal_skin_eruptions</td>\n",
       "      <td>dischromic _patches</td>\n",
       "      <td>NaN</td>\n",
       "    </tr>\n",
       "    <tr>\n",
       "      <th>2</th>\n",
       "      <td>2</td>\n",
       "      <td>Fungal infection</td>\n",
       "      <td>itching</td>\n",
       "      <td>nodal_skin_eruptions</td>\n",
       "      <td>dischromic _patches</td>\n",
       "      <td>NaN</td>\n",
       "    </tr>\n",
       "    <tr>\n",
       "      <th>3</th>\n",
       "      <td>3</td>\n",
       "      <td>Fungal infection</td>\n",
       "      <td>itching</td>\n",
       "      <td>skin_rash</td>\n",
       "      <td>dischromic _patches</td>\n",
       "      <td>NaN</td>\n",
       "    </tr>\n",
       "    <tr>\n",
       "      <th>4</th>\n",
       "      <td>4</td>\n",
       "      <td>Fungal infection</td>\n",
       "      <td>itching</td>\n",
       "      <td>skin_rash</td>\n",
       "      <td>nodal_skin_eruptions</td>\n",
       "      <td>NaN</td>\n",
       "    </tr>\n",
       "  </tbody>\n",
       "</table>\n",
       "</div>"
      ],
      "text/plain": [
       "   Unnamed: 0           Disease   Symptom_1              Symptom_2  \\\n",
       "0           0  Fungal infection     itching              skin_rash   \n",
       "1           1  Fungal infection   skin_rash   nodal_skin_eruptions   \n",
       "2           2  Fungal infection     itching   nodal_skin_eruptions   \n",
       "3           3  Fungal infection     itching              skin_rash   \n",
       "4           4  Fungal infection     itching              skin_rash   \n",
       "\n",
       "               Symptom_3             Symptom_4  \n",
       "0   nodal_skin_eruptions   dischromic _patches  \n",
       "1    dischromic _patches                   NaN  \n",
       "2    dischromic _patches                   NaN  \n",
       "3    dischromic _patches                   NaN  \n",
       "4   nodal_skin_eruptions                   NaN  "
      ]
     },
     "execution_count": 59,
     "metadata": {},
     "output_type": "execute_result"
    }
   ],
   "source": [
    "sym_des.head()"
   ]
  },
  {
   "cell_type": "code",
   "execution_count": 61,
   "id": "27899ec0-0958-4dee-857e-fc78ecca84c0",
   "metadata": {},
   "outputs": [
    {
     "data": {
      "text/html": [
       "<div>\n",
       "<style scoped>\n",
       "    .dataframe tbody tr th:only-of-type {\n",
       "        vertical-align: middle;\n",
       "    }\n",
       "\n",
       "    .dataframe tbody tr th {\n",
       "        vertical-align: top;\n",
       "    }\n",
       "\n",
       "    .dataframe thead th {\n",
       "        text-align: right;\n",
       "    }\n",
       "</style>\n",
       "<table border=\"1\" class=\"dataframe\">\n",
       "  <thead>\n",
       "    <tr style=\"text-align: right;\">\n",
       "      <th></th>\n",
       "      <th>Unnamed: 0</th>\n",
       "      <th>Disease</th>\n",
       "      <th>Precaution_1</th>\n",
       "      <th>Precaution_2</th>\n",
       "      <th>Precaution_3</th>\n",
       "      <th>Precaution_4</th>\n",
       "    </tr>\n",
       "  </thead>\n",
       "  <tbody>\n",
       "    <tr>\n",
       "      <th>0</th>\n",
       "      <td>0</td>\n",
       "      <td>Drug Reaction</td>\n",
       "      <td>stop irritation</td>\n",
       "      <td>consult nearest hospital</td>\n",
       "      <td>stop taking drug</td>\n",
       "      <td>follow up</td>\n",
       "    </tr>\n",
       "    <tr>\n",
       "      <th>1</th>\n",
       "      <td>1</td>\n",
       "      <td>Malaria</td>\n",
       "      <td>Consult nearest hospital</td>\n",
       "      <td>avoid oily food</td>\n",
       "      <td>avoid non veg food</td>\n",
       "      <td>keep mosquitos out</td>\n",
       "    </tr>\n",
       "    <tr>\n",
       "      <th>2</th>\n",
       "      <td>2</td>\n",
       "      <td>Allergy</td>\n",
       "      <td>apply calamine</td>\n",
       "      <td>cover area with bandage</td>\n",
       "      <td>NaN</td>\n",
       "      <td>use ice to compress itching</td>\n",
       "    </tr>\n",
       "    <tr>\n",
       "      <th>3</th>\n",
       "      <td>3</td>\n",
       "      <td>Hypothyroidism</td>\n",
       "      <td>reduce stress</td>\n",
       "      <td>exercise</td>\n",
       "      <td>eat healthy</td>\n",
       "      <td>get proper sleep</td>\n",
       "    </tr>\n",
       "    <tr>\n",
       "      <th>4</th>\n",
       "      <td>4</td>\n",
       "      <td>Psoriasis</td>\n",
       "      <td>wash hands with warm soapy water</td>\n",
       "      <td>stop bleeding using pressure</td>\n",
       "      <td>consult doctor</td>\n",
       "      <td>salt baths</td>\n",
       "    </tr>\n",
       "  </tbody>\n",
       "</table>\n",
       "</div>"
      ],
      "text/plain": [
       "   Unnamed: 0         Disease                      Precaution_1  \\\n",
       "0           0   Drug Reaction                   stop irritation   \n",
       "1           1         Malaria          Consult nearest hospital   \n",
       "2           2         Allergy                    apply calamine   \n",
       "3           3  Hypothyroidism                     reduce stress   \n",
       "4           4       Psoriasis  wash hands with warm soapy water   \n",
       "\n",
       "                   Precaution_2        Precaution_3  \\\n",
       "0      consult nearest hospital    stop taking drug   \n",
       "1               avoid oily food  avoid non veg food   \n",
       "2       cover area with bandage                 NaN   \n",
       "3                      exercise         eat healthy   \n",
       "4  stop bleeding using pressure      consult doctor   \n",
       "\n",
       "                  Precaution_4  \n",
       "0                    follow up  \n",
       "1           keep mosquitos out  \n",
       "2  use ice to compress itching  \n",
       "3             get proper sleep  \n",
       "4                   salt baths  "
      ]
     },
     "execution_count": 61,
     "metadata": {},
     "output_type": "execute_result"
    }
   ],
   "source": [
    "precautions.head()"
   ]
  },
  {
   "cell_type": "code",
   "execution_count": 63,
   "id": "b3ec66f2-f5f6-4733-80ca-a828ccd2440d",
   "metadata": {},
   "outputs": [
    {
     "data": {
      "text/html": [
       "<div>\n",
       "<style scoped>\n",
       "    .dataframe tbody tr th:only-of-type {\n",
       "        vertical-align: middle;\n",
       "    }\n",
       "\n",
       "    .dataframe tbody tr th {\n",
       "        vertical-align: top;\n",
       "    }\n",
       "\n",
       "    .dataframe thead th {\n",
       "        text-align: right;\n",
       "    }\n",
       "</style>\n",
       "<table border=\"1\" class=\"dataframe\">\n",
       "  <thead>\n",
       "    <tr style=\"text-align: right;\">\n",
       "      <th></th>\n",
       "      <th>Unnamed: 0.1</th>\n",
       "      <th>Unnamed: 0</th>\n",
       "      <th>disease</th>\n",
       "      <th>workout</th>\n",
       "    </tr>\n",
       "  </thead>\n",
       "  <tbody>\n",
       "    <tr>\n",
       "      <th>0</th>\n",
       "      <td>0</td>\n",
       "      <td>0</td>\n",
       "      <td>Fungal infection</td>\n",
       "      <td>Avoid sugary foods</td>\n",
       "    </tr>\n",
       "    <tr>\n",
       "      <th>1</th>\n",
       "      <td>1</td>\n",
       "      <td>1</td>\n",
       "      <td>Fungal infection</td>\n",
       "      <td>Consume probiotics</td>\n",
       "    </tr>\n",
       "    <tr>\n",
       "      <th>2</th>\n",
       "      <td>2</td>\n",
       "      <td>2</td>\n",
       "      <td>Fungal infection</td>\n",
       "      <td>Increase intake of garlic</td>\n",
       "    </tr>\n",
       "    <tr>\n",
       "      <th>3</th>\n",
       "      <td>3</td>\n",
       "      <td>3</td>\n",
       "      <td>Fungal infection</td>\n",
       "      <td>Include yogurt in diet</td>\n",
       "    </tr>\n",
       "    <tr>\n",
       "      <th>4</th>\n",
       "      <td>4</td>\n",
       "      <td>4</td>\n",
       "      <td>Fungal infection</td>\n",
       "      <td>Limit processed foods</td>\n",
       "    </tr>\n",
       "  </tbody>\n",
       "</table>\n",
       "</div>"
      ],
      "text/plain": [
       "   Unnamed: 0.1  Unnamed: 0           disease                    workout\n",
       "0             0           0  Fungal infection         Avoid sugary foods\n",
       "1             1           1  Fungal infection         Consume probiotics\n",
       "2             2           2  Fungal infection  Increase intake of garlic\n",
       "3             3           3  Fungal infection     Include yogurt in diet\n",
       "4             4           4  Fungal infection      Limit processed foods"
      ]
     },
     "execution_count": 63,
     "metadata": {},
     "output_type": "execute_result"
    }
   ],
   "source": [
    "workout.head()"
   ]
  },
  {
   "cell_type": "code",
   "execution_count": 65,
   "id": "d8e59bf1-e868-41bc-aba8-21921c40dd45",
   "metadata": {},
   "outputs": [
    {
     "data": {
      "text/html": [
       "<div>\n",
       "<style scoped>\n",
       "    .dataframe tbody tr th:only-of-type {\n",
       "        vertical-align: middle;\n",
       "    }\n",
       "\n",
       "    .dataframe tbody tr th {\n",
       "        vertical-align: top;\n",
       "    }\n",
       "\n",
       "    .dataframe thead th {\n",
       "        text-align: right;\n",
       "    }\n",
       "</style>\n",
       "<table border=\"1\" class=\"dataframe\">\n",
       "  <thead>\n",
       "    <tr style=\"text-align: right;\">\n",
       "      <th></th>\n",
       "      <th>Disease</th>\n",
       "      <th>Description</th>\n",
       "    </tr>\n",
       "  </thead>\n",
       "  <tbody>\n",
       "    <tr>\n",
       "      <th>0</th>\n",
       "      <td>Fungal infection</td>\n",
       "      <td>Fungal infection is a common skin condition ca...</td>\n",
       "    </tr>\n",
       "    <tr>\n",
       "      <th>1</th>\n",
       "      <td>Allergy</td>\n",
       "      <td>Allergy is an immune system reaction to a subs...</td>\n",
       "    </tr>\n",
       "    <tr>\n",
       "      <th>2</th>\n",
       "      <td>GERD</td>\n",
       "      <td>GERD (Gastroesophageal Reflux Disease) is a di...</td>\n",
       "    </tr>\n",
       "    <tr>\n",
       "      <th>3</th>\n",
       "      <td>Chronic cholestasis</td>\n",
       "      <td>Chronic cholestasis is a condition where bile ...</td>\n",
       "    </tr>\n",
       "    <tr>\n",
       "      <th>4</th>\n",
       "      <td>Drug Reaction</td>\n",
       "      <td>Drug Reaction occurs when the body reacts adve...</td>\n",
       "    </tr>\n",
       "  </tbody>\n",
       "</table>\n",
       "</div>"
      ],
      "text/plain": [
       "               Disease                                        Description\n",
       "0     Fungal infection  Fungal infection is a common skin condition ca...\n",
       "1              Allergy  Allergy is an immune system reaction to a subs...\n",
       "2                 GERD  GERD (Gastroesophageal Reflux Disease) is a di...\n",
       "3  Chronic cholestasis  Chronic cholestasis is a condition where bile ...\n",
       "4        Drug Reaction  Drug Reaction occurs when the body reacts adve..."
      ]
     },
     "execution_count": 65,
     "metadata": {},
     "output_type": "execute_result"
    }
   ],
   "source": [
    "description.head()"
   ]
  },
  {
   "cell_type": "code",
   "execution_count": 67,
   "id": "c05a42ef-3553-40f0-83d6-8b5b67c815a8",
   "metadata": {},
   "outputs": [
    {
     "data": {
      "text/html": [
       "<div>\n",
       "<style scoped>\n",
       "    .dataframe tbody tr th:only-of-type {\n",
       "        vertical-align: middle;\n",
       "    }\n",
       "\n",
       "    .dataframe tbody tr th {\n",
       "        vertical-align: top;\n",
       "    }\n",
       "\n",
       "    .dataframe thead th {\n",
       "        text-align: right;\n",
       "    }\n",
       "</style>\n",
       "<table border=\"1\" class=\"dataframe\">\n",
       "  <thead>\n",
       "    <tr style=\"text-align: right;\">\n",
       "      <th></th>\n",
       "      <th>Disease</th>\n",
       "      <th>Medication</th>\n",
       "    </tr>\n",
       "  </thead>\n",
       "  <tbody>\n",
       "    <tr>\n",
       "      <th>0</th>\n",
       "      <td>Fungal infection</td>\n",
       "      <td>['Antifungal Cream', 'Fluconazole', 'Terbinafi...</td>\n",
       "    </tr>\n",
       "    <tr>\n",
       "      <th>1</th>\n",
       "      <td>Allergy</td>\n",
       "      <td>['Antihistamines', 'Decongestants', 'Epinephri...</td>\n",
       "    </tr>\n",
       "    <tr>\n",
       "      <th>2</th>\n",
       "      <td>GERD</td>\n",
       "      <td>['Proton Pump Inhibitors (PPIs)', 'H2 Blockers...</td>\n",
       "    </tr>\n",
       "    <tr>\n",
       "      <th>3</th>\n",
       "      <td>Chronic cholestasis</td>\n",
       "      <td>['Ursodeoxycholic acid', 'Cholestyramine', 'Me...</td>\n",
       "    </tr>\n",
       "    <tr>\n",
       "      <th>4</th>\n",
       "      <td>Drug Reaction</td>\n",
       "      <td>['Antihistamines', 'Epinephrine', 'Corticoster...</td>\n",
       "    </tr>\n",
       "  </tbody>\n",
       "</table>\n",
       "</div>"
      ],
      "text/plain": [
       "               Disease                                         Medication\n",
       "0     Fungal infection  ['Antifungal Cream', 'Fluconazole', 'Terbinafi...\n",
       "1              Allergy  ['Antihistamines', 'Decongestants', 'Epinephri...\n",
       "2                 GERD  ['Proton Pump Inhibitors (PPIs)', 'H2 Blockers...\n",
       "3  Chronic cholestasis  ['Ursodeoxycholic acid', 'Cholestyramine', 'Me...\n",
       "4        Drug Reaction  ['Antihistamines', 'Epinephrine', 'Corticoster..."
      ]
     },
     "execution_count": 67,
     "metadata": {},
     "output_type": "execute_result"
    }
   ],
   "source": [
    "medications.head()"
   ]
  },
  {
   "cell_type": "code",
   "execution_count": 69,
   "id": "182dc123-9abf-4ebd-91ac-4c7a1b7e40b6",
   "metadata": {},
   "outputs": [
    {
     "data": {
      "text/html": [
       "<div>\n",
       "<style scoped>\n",
       "    .dataframe tbody tr th:only-of-type {\n",
       "        vertical-align: middle;\n",
       "    }\n",
       "\n",
       "    .dataframe tbody tr th {\n",
       "        vertical-align: top;\n",
       "    }\n",
       "\n",
       "    .dataframe thead th {\n",
       "        text-align: right;\n",
       "    }\n",
       "</style>\n",
       "<table border=\"1\" class=\"dataframe\">\n",
       "  <thead>\n",
       "    <tr style=\"text-align: right;\">\n",
       "      <th></th>\n",
       "      <th>Disease</th>\n",
       "      <th>Diet</th>\n",
       "    </tr>\n",
       "  </thead>\n",
       "  <tbody>\n",
       "    <tr>\n",
       "      <th>0</th>\n",
       "      <td>Fungal infection</td>\n",
       "      <td>['Antifungal Diet', 'Probiotics', 'Garlic', 'C...</td>\n",
       "    </tr>\n",
       "    <tr>\n",
       "      <th>1</th>\n",
       "      <td>Allergy</td>\n",
       "      <td>['Elimination Diet', 'Omega-3-rich foods', 'Vi...</td>\n",
       "    </tr>\n",
       "    <tr>\n",
       "      <th>2</th>\n",
       "      <td>GERD</td>\n",
       "      <td>['Low-Acid Diet', 'Fiber-rich foods', 'Ginger'...</td>\n",
       "    </tr>\n",
       "    <tr>\n",
       "      <th>3</th>\n",
       "      <td>Chronic cholestasis</td>\n",
       "      <td>['Low-Fat Diet', 'High-Fiber Diet', 'Lean prot...</td>\n",
       "    </tr>\n",
       "    <tr>\n",
       "      <th>4</th>\n",
       "      <td>Drug Reaction</td>\n",
       "      <td>['Antihistamine Diet', 'Omega-3-rich foods', '...</td>\n",
       "    </tr>\n",
       "  </tbody>\n",
       "</table>\n",
       "</div>"
      ],
      "text/plain": [
       "               Disease                                               Diet\n",
       "0     Fungal infection  ['Antifungal Diet', 'Probiotics', 'Garlic', 'C...\n",
       "1              Allergy  ['Elimination Diet', 'Omega-3-rich foods', 'Vi...\n",
       "2                 GERD  ['Low-Acid Diet', 'Fiber-rich foods', 'Ginger'...\n",
       "3  Chronic cholestasis  ['Low-Fat Diet', 'High-Fiber Diet', 'Lean prot...\n",
       "4        Drug Reaction  ['Antihistamine Diet', 'Omega-3-rich foods', '..."
      ]
     },
     "execution_count": 69,
     "metadata": {},
     "output_type": "execute_result"
    }
   ],
   "source": [
    "diets.head()"
   ]
  },
  {
   "cell_type": "code",
   "execution_count": 71,
   "id": "5e5c79ec-3627-4a39-9edf-65691fe72d37",
   "metadata": {},
   "outputs": [],
   "source": [
    "# custome and helping functions\n",
    "#==========================helper funtions================\n",
    "def helper(dis):\n",
    "    desc = description[description['Disease'] == predicted_disease]['Description']\n",
    "    desc = \" \".join([w for w in desc])\n",
    "\n",
    "    pre = precautions[precautions['Disease'] == dis][['Precaution_1', 'Precaution_2', 'Precaution_3', 'Precaution_4']]\n",
    "    pre = [col for col in pre.values]\n",
    "\n",
    "    med = medications[medications['Disease'] == dis]['Medication']\n",
    "    med = [med for med in med.values]\n",
    "\n",
    "    die = diets[diets['Disease'] == dis]['Diet']\n",
    "    die = [die for die in die.values]\n",
    "\n",
    "    wrkout = workout[workout['disease'] == dis] ['workout']\n",
    "\n",
    "\n",
    "    return desc,pre,med,die,wrkout\n",
    "\n",
    "symptoms_dict = {'itching': 0, 'skin_rash': 1, 'nodal_skin_eruptions': 2, 'continuous_sneezing': 3, 'shivering': 4, 'chills': 5, 'joint_pain': 6, 'stomach_pain': 7, 'acidity': 8, 'ulcers_on_tongue': 9, 'muscle_wasting': 10, 'vomiting': 11, 'burning_micturition': 12, 'spotting_ urination': 13, 'fatigue': 14, 'weight_gain': 15, 'anxiety': 16, 'cold_hands_and_feets': 17, 'mood_swings': 18, 'weight_loss': 19, 'restlessness': 20, 'lethargy': 21, 'patches_in_throat': 22, 'irregular_sugar_level': 23, 'cough': 24, 'high_fever': 25, 'sunken_eyes': 26, 'breathlessness': 27, 'sweating': 28, 'dehydration': 29, 'indigestion': 30, 'headache': 31, 'yellowish_skin': 32, 'dark_urine': 33, 'nausea': 34, 'loss_of_appetite': 35, 'pain_behind_the_eyes': 36, 'back_pain': 37, 'constipation': 38, 'abdominal_pain': 39, 'diarrhoea': 40, 'mild_fever': 41, 'yellow_urine': 42, 'yellowing_of_eyes': 43, 'acute_liver_failure': 44, 'fluid_overload': 45, 'swelling_of_stomach': 46, 'swelled_lymph_nodes': 47, 'malaise': 48, 'blurred_and_distorted_vision': 49, 'phlegm': 50, 'throat_irritation': 51, 'redness_of_eyes': 52, 'sinus_pressure': 53, 'runny_nose': 54, 'congestion': 55, 'chest_pain': 56, 'weakness_in_limbs': 57, 'fast_heart_rate': 58, 'pain_during_bowel_movements': 59, 'pain_in_anal_region': 60, 'bloody_stool': 61, 'irritation_in_anus': 62, 'neck_pain': 63, 'dizziness': 64, 'cramps': 65, 'bruising': 66, 'obesity': 67, 'swollen_legs': 68, 'swollen_blood_vessels': 69, 'puffy_face_and_eyes': 70, 'enlarged_thyroid': 71, 'brittle_nails': 72, 'swollen_extremeties': 73, 'excessive_hunger': 74, 'extra_marital_contacts': 75, 'drying_and_tingling_lips': 76, 'slurred_speech': 77, 'knee_pain': 78, 'hip_joint_pain': 79, 'muscle_weakness': 80, 'stiff_neck': 81, 'swelling_joints': 82, 'movement_stiffness': 83, 'spinning_movements': 84, 'loss_of_balance': 85, 'unsteadiness': 86, 'weakness_of_one_body_side': 87, 'loss_of_smell': 88, 'bladder_discomfort': 89, 'foul_smell_of urine': 90, 'continuous_feel_of_urine': 91, 'passage_of_gases': 92, 'internal_itching': 93, 'toxic_look_(typhos)': 94, 'depression': 95, 'irritability': 96, 'muscle_pain': 97, 'altered_sensorium': 98, 'red_spots_over_body': 99, 'belly_pain': 100, 'abnormal_menstruation': 101, 'dischromic _patches': 102, 'watering_from_eyes': 103, 'increased_appetite': 104, 'polyuria': 105, 'family_history': 106, 'mucoid_sputum': 107, 'rusty_sputum': 108, 'lack_of_concentration': 109, 'visual_disturbances': 110, 'receiving_blood_transfusion': 111, 'receiving_unsterile_injections': 112, 'coma': 113, 'stomach_bleeding': 114, 'distention_of_abdomen': 115, 'history_of_alcohol_consumption': 116, 'fluid_overload.1': 117, 'blood_in_sputum': 118, 'prominent_veins_on_calf': 119, 'palpitations': 120, 'painful_walking': 121, 'pus_filled_pimples': 122, 'blackheads': 123, 'scurring': 124, 'skin_peeling': 125, 'silver_like_dusting': 126, 'small_dents_in_nails': 127, 'inflammatory_nails': 128, 'blister': 129, 'red_sore_around_nose': 130, 'yellow_crust_ooze': 131}\n",
    "diseases_list = {15: 'Fungal infection', 4: 'Allergy', 16: 'GERD', 9: 'Chronic cholestasis', 14: 'Drug Reaction', 33: 'Peptic ulcer diseae', 1: 'AIDS', 12: 'Diabetes ', 17: 'Gastroenteritis', 6: 'Bronchial Asthma', 23: 'Hypertension ', 30: 'Migraine', 7: 'Cervical spondylosis', 32: 'Paralysis (brain hemorrhage)', 28: 'Jaundice', 29: 'Malaria', 8: 'Chicken pox', 11: 'Dengue', 37: 'Typhoid', 40: 'hepatitis A', 19: 'Hepatitis B', 20: 'Hepatitis C', 21: 'Hepatitis D', 22: 'Hepatitis E', 3: 'Alcoholic hepatitis', 36: 'Tuberculosis', 10: 'Common Cold', 34: 'Pneumonia', 13: 'Dimorphic hemmorhoids(piles)', 18: 'Heart attack', 39: 'Varicose veins', 26: 'Hypothyroidism', 24: 'Hyperthyroidism', 25: 'Hypoglycemia', 31: 'Osteoarthristis', 5: 'Arthritis', 0: '(vertigo) Paroymsal  Positional Vertigo', 2: 'Acne', 38: 'Urinary tract infection', 35: 'Psoriasis', 27: 'Impetigo'}\n",
    "\n",
    "# Model Prediction function\n",
    "def get_predicted_value(patient_symptoms):\n",
    "    input_vector = np.zeros(len(symptoms_dict))\n",
    "    for item in patient_symptoms:\n",
    "        input_vector[symptoms_dict[item]] = 1\n",
    "    return diseases_list[svc.predict([input_vector])[0]]"
   ]
  },
  {
   "cell_type": "code",
   "execution_count": 79,
   "id": "b7f8d37b-53ae-4528-9a25-037513ed4517",
   "metadata": {},
   "outputs": [
    {
     "name": "stdin",
     "output_type": "stream",
     "text": [
      "Enter your symptoms....... sleep\n"
     ]
    },
    {
     "ename": "KeyError",
     "evalue": "'sleep'",
     "output_type": "error",
     "traceback": [
      "\u001b[0;31m---------------------------------------------------------------------------\u001b[0m",
      "\u001b[0;31mKeyError\u001b[0m                                  Traceback (most recent call last)",
      "Cell \u001b[0;32mIn[79], line 7\u001b[0m\n\u001b[1;32m      5\u001b[0m \u001b[38;5;66;03m# Remove any extra characters, if any\u001b[39;00m\n\u001b[1;32m      6\u001b[0m user_symptoms \u001b[38;5;241m=\u001b[39m [symptom\u001b[38;5;241m.\u001b[39mstrip(\u001b[38;5;124m\"\u001b[39m\u001b[38;5;124m[]\u001b[39m\u001b[38;5;124m'\u001b[39m\u001b[38;5;124m \u001b[39m\u001b[38;5;124m\"\u001b[39m) \u001b[38;5;28;01mfor\u001b[39;00m symptom \u001b[38;5;129;01min\u001b[39;00m user_symptoms]\n\u001b[0;32m----> 7\u001b[0m predicted_disease \u001b[38;5;241m=\u001b[39m get_predicted_value(user_symptoms)\n\u001b[1;32m      9\u001b[0m desc, pre, med, die, wrkout \u001b[38;5;241m=\u001b[39m helper(predicted_disease)\n\u001b[1;32m     11\u001b[0m \u001b[38;5;28mprint\u001b[39m(\u001b[38;5;124m\"\u001b[39m\u001b[38;5;124m=================predicted disease============\u001b[39m\u001b[38;5;124m\"\u001b[39m)\n",
      "Cell \u001b[0;32mIn[71], line 28\u001b[0m, in \u001b[0;36mget_predicted_value\u001b[0;34m(patient_symptoms)\u001b[0m\n\u001b[1;32m     26\u001b[0m input_vector \u001b[38;5;241m=\u001b[39m np\u001b[38;5;241m.\u001b[39mzeros(\u001b[38;5;28mlen\u001b[39m(symptoms_dict))\n\u001b[1;32m     27\u001b[0m \u001b[38;5;28;01mfor\u001b[39;00m item \u001b[38;5;129;01min\u001b[39;00m patient_symptoms:\n\u001b[0;32m---> 28\u001b[0m     input_vector[symptoms_dict[item]] \u001b[38;5;241m=\u001b[39m \u001b[38;5;241m1\u001b[39m\n\u001b[1;32m     29\u001b[0m \u001b[38;5;28;01mreturn\u001b[39;00m diseases_list[svc\u001b[38;5;241m.\u001b[39mpredict([input_vector])[\u001b[38;5;241m0\u001b[39m]]\n",
      "\u001b[0;31mKeyError\u001b[0m: 'sleep'"
     ]
    }
   ],
   "source": [
    "# Test 1\n",
    "# Split the user's input into a list of symptoms (assuming they are comma-separated) # itching,skin_rash,nodal_skin_eruptions\n",
    "symptoms = input(\"Enter your symptoms.......\")\n",
    "user_symptoms = [s.strip() for s in symptoms.split(',')]\n",
    "# Remove any extra characters, if any\n",
    "user_symptoms = [symptom.strip(\"[]' \") for symptom in user_symptoms]\n",
    "predicted_disease = get_predicted_value(user_symptoms)\n",
    "\n",
    "desc, pre, med, die, wrkout = helper(predicted_disease)\n",
    "\n",
    "print(\"=================predicted disease============\")\n",
    "print(predicted_disease)\n",
    "print(\"=================description==================\")\n",
    "print(desc)\n",
    "print(\"=================precautions==================\")\n",
    "i = 1\n",
    "for p_i in pre[0]:\n",
    "    print(i, \": \", p_i)\n",
    "    i += 1\n",
    "\n",
    "print(\"=================medications==================\")\n",
    "for m_i in med:\n",
    "    print(i, \": \", m_i)\n",
    "    i += 1\n",
    "\n",
    "print(\"=================workout==================\")\n",
    "for w_i in wrkout:\n",
    "    print(i, \": \", w_i)\n",
    "    i += 1\n",
    "\n",
    "print(\"=================diets==================\")\n",
    "for d_i in die:\n",
    "    print(i, \": \", d_i)\n",
    "    i += 1"
   ]
  },
  {
   "cell_type": "code",
   "execution_count": 75,
   "id": "dc9c3fcb-817f-4ba3-8f45-739193b971af",
   "metadata": {},
   "outputs": [
    {
     "name": "stdin",
     "output_type": "stream",
     "text": [
      "Enter your symptoms....... hi\n"
     ]
    },
    {
     "ename": "KeyError",
     "evalue": "'hi'",
     "output_type": "error",
     "traceback": [
      "\u001b[0;31m---------------------------------------------------------------------------\u001b[0m",
      "\u001b[0;31mKeyError\u001b[0m                                  Traceback (most recent call last)",
      "Cell \u001b[0;32mIn[75], line 7\u001b[0m\n\u001b[1;32m      5\u001b[0m \u001b[38;5;66;03m# Remove any extra characters, if any\u001b[39;00m\n\u001b[1;32m      6\u001b[0m user_symptoms \u001b[38;5;241m=\u001b[39m [symptom\u001b[38;5;241m.\u001b[39mstrip(\u001b[38;5;124m\"\u001b[39m\u001b[38;5;124m[]\u001b[39m\u001b[38;5;124m'\u001b[39m\u001b[38;5;124m \u001b[39m\u001b[38;5;124m\"\u001b[39m) \u001b[38;5;28;01mfor\u001b[39;00m symptom \u001b[38;5;129;01min\u001b[39;00m user_symptoms]\n\u001b[0;32m----> 7\u001b[0m predicted_disease \u001b[38;5;241m=\u001b[39m get_predicted_value(user_symptoms)\n\u001b[1;32m      9\u001b[0m desc, pre, med, die, wrkout \u001b[38;5;241m=\u001b[39m helper(predicted_disease)\n\u001b[1;32m     11\u001b[0m \u001b[38;5;28mprint\u001b[39m(\u001b[38;5;124m\"\u001b[39m\u001b[38;5;124m=================predicted disease============\u001b[39m\u001b[38;5;124m\"\u001b[39m)\n",
      "Cell \u001b[0;32mIn[71], line 28\u001b[0m, in \u001b[0;36mget_predicted_value\u001b[0;34m(patient_symptoms)\u001b[0m\n\u001b[1;32m     26\u001b[0m input_vector \u001b[38;5;241m=\u001b[39m np\u001b[38;5;241m.\u001b[39mzeros(\u001b[38;5;28mlen\u001b[39m(symptoms_dict))\n\u001b[1;32m     27\u001b[0m \u001b[38;5;28;01mfor\u001b[39;00m item \u001b[38;5;129;01min\u001b[39;00m patient_symptoms:\n\u001b[0;32m---> 28\u001b[0m     input_vector[symptoms_dict[item]] \u001b[38;5;241m=\u001b[39m \u001b[38;5;241m1\u001b[39m\n\u001b[1;32m     29\u001b[0m \u001b[38;5;28;01mreturn\u001b[39;00m diseases_list[svc\u001b[38;5;241m.\u001b[39mpredict([input_vector])[\u001b[38;5;241m0\u001b[39m]]\n",
      "\u001b[0;31mKeyError\u001b[0m: 'hi'"
     ]
    }
   ],
   "source": [
    "# Test 1\n",
    "# Split the user's input into a list of symptoms (assuming they are comma-separated) # yellow_crust_ooze,red_sore_around_nose,small_dents_in_nails,inflammatory_nails,blister\n",
    "symptoms = input(\"Enter your symptoms.......\")\n",
    "user_symptoms = [s.strip() for s in symptoms.split(',')]\n",
    "# Remove any extra characters, if any\n",
    "user_symptoms = [symptom.strip(\"[]' \") for symptom in user_symptoms]\n",
    "predicted_disease = get_predicted_value(user_symptoms)\n",
    "\n",
    "desc, pre, med, die, wrkout = helper(predicted_disease)\n",
    "\n",
    "print(\"=================predicted disease============\")\n",
    "print(predicted_disease)\n",
    "print(\"=================description==================\")\n",
    "print(desc)\n",
    "print(\"=================precautions==================\")\n",
    "i = 1\n",
    "for p_i in pre[0]:\n",
    "    print(i, \": \", p_i)\n",
    "    i += 1\n",
    "\n",
    "print(\"=================medications==================\")\n",
    "for m_i in med:\n",
    "    print(i, \": \", m_i)\n",
    "    i += 1\n",
    "\n",
    "print(\"=================workout==================\")\n",
    "for w_i in wrkout:\n",
    "    print(i, \": \", w_i)\n",
    "    i += 1\n",
    "\n",
    "print(\"=================diets==================\")\n",
    "for d_i in die:\n",
    "    print(i, \": \", d_i)\n",
    "    i += 1"
   ]
  },
  {
   "cell_type": "code",
   "execution_count": 77,
   "id": "e9889415-551d-47b7-ac8f-6fab1aee0379",
   "metadata": {},
   "outputs": [
    {
     "name": "stdout",
     "output_type": "stream",
     "text": [
      "1.5.1\n"
     ]
    }
   ],
   "source": [
    "# let's use pycharm flask app\n",
    "# but install this version in pycharm\n",
    "import sklearn\n",
    "print(sklearn.__version__)"
   ]
  },
  {
   "cell_type": "code",
   "execution_count": null,
   "id": "48e1b597-1f13-4ca5-b35b-4528ae1c1f35",
   "metadata": {},
   "outputs": [],
   "source": []
  }
 ],
 "metadata": {
  "kernelspec": {
   "display_name": "Python [conda env:base] *",
   "language": "python",
   "name": "conda-base-py"
  },
  "language_info": {
   "codemirror_mode": {
    "name": "ipython",
    "version": 3
   },
   "file_extension": ".py",
   "mimetype": "text/x-python",
   "name": "python",
   "nbconvert_exporter": "python",
   "pygments_lexer": "ipython3",
   "version": "3.12.7"
  }
 },
 "nbformat": 4,
 "nbformat_minor": 5
}
